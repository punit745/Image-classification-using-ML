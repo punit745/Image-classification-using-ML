{
 "cells": [
  {
   "cell_type": "markdown",
   "metadata": {},
   "source": [
    "## Classification of Images from the CIFAR-10 Dataset using ANN (MLP) & CNN\n",
    "\n",
    "### Objective: \n",
    "This lab focuses on training learners to classify images from the CIFAR-10 dataset using Artificial Neural Networks (ANN) and Convolutional Neural Networks (CNN). Starting with the basics of neural networks and image data, it progresses to implementing MLP and CNN models with Python libraries like TensorFlow and Keras. Participants will preprocess image data, design network architectures, and train models to classify images into ten categories. By the end, learners will confidently apply ANN and CNN techniques to similar real-world image classification tasks.\n"
   ]
  },
  {
   "cell_type": "markdown",
   "metadata": {
    "id": "kuVRILk-vaBb"
   },
   "source": [
    "### Importing Libraries \n"
   ]
  },
  {
   "cell_type": "code",
   "execution_count": 1,
   "metadata": {
    "colab": {
     "background_save": true
    },
    "executionInfo": {
     "elapsed": 606,
     "status": "ok",
     "timestamp": 1650635431942,
     "user": {
      "displayName": "Abdulaziz Mohammad",
      "userId": "00984729133826365059"
     },
     "user_tz": -330
    },
    "id": "jmd1PDuTvVlk"
   },
   "outputs": [],
   "source": [
    "import tensorflow as tf\n",
    "import matplotlib.pyplot as plt"
   ]
  },
  {
   "cell_type": "code",
   "execution_count": 2,
   "metadata": {},
   "outputs": [
    {
     "data": {
      "text/plain": [
       "'3.9.3'"
      ]
     },
     "execution_count": 2,
     "metadata": {},
     "output_type": "execute_result"
    }
   ],
   "source": [
    "import matplotlib\n",
    "matplotlib.__version__"
   ]
  },
  {
   "cell_type": "code",
   "execution_count": 3,
   "metadata": {},
   "outputs": [
    {
     "data": {
      "text/plain": [
       "'2.10.1'"
      ]
     },
     "execution_count": 3,
     "metadata": {},
     "output_type": "execute_result"
    }
   ],
   "source": [
    "tf.__version__"
   ]
  },
  {
   "cell_type": "markdown",
   "metadata": {
    "id": "vU00AMY9vLDb"
   },
   "source": [
    "# Check for GPU"
   ]
  },
  {
   "cell_type": "code",
   "execution_count": 31,
   "metadata": {
    "colab": {
     "base_uri": "https://localhost:8080/"
    },
    "executionInfo": {
     "elapsed": 349,
     "status": "ok",
     "timestamp": 1650635459135,
     "user": {
      "displayName": "Abdulaziz Mohammad",
      "userId": "00984729133826365059"
     },
     "user_tz": -330
    },
    "id": "pZjAFqimvIB_",
    "outputId": "232855e0-bd30-44f0-d0be-66ec70a4e927"
   },
   "outputs": [
    {
     "name": "stdout",
     "output_type": "stream",
     "text": [
      "Number of GPUs Available: 1\n",
      "\n",
      "GPU 1: NVIDIA GeForce GTX 1650 with Max-Q Design\n",
      "Could not set memory growth for GPU 1: Physical devices cannot be modified after being initialized\n"
     ]
    }
   ],
   "source": [
    "import tensorflow as tf\n",
    "\n",
    "# Get list of available physical GPUs\n",
    "physical_devices = tf.config.list_physical_devices('GPU')\n",
    "\n",
    "# Check if GPUs are available\n",
    "if len(physical_devices) > 0:\n",
    "    print(f\"Number of GPUs Available: {len(physical_devices)}\\n\")\n",
    "    for i, gpu in enumerate(physical_devices):\n",
    "        gpu_details = tf.config.experimental.get_device_details(gpu)\n",
    "        gpu_name = gpu_details.get(\"device_name\", \"Unknown GPU\")\n",
    "        print(f\"GPU {i + 1}: {gpu_name}\")\n",
    "        \n",
    "        # Enable memory growth (optional)\n",
    "        try:\n",
    "            tf.config.experimental.set_memory_growth(gpu, True)\n",
    "            print(f\"Memory growth enabled for GPU {i + 1}\")\n",
    "        except Exception as e:\n",
    "            print(f\"Could not set memory growth for GPU {i + 1}: {e}\")\n",
    "else:\n",
    "    print(\"No GPUs Available\")\n"
   ]
  },
  {
   "cell_type": "markdown",
   "metadata": {
    "id": "oXnz2p3AvCIK"
   },
   "source": [
    "## Loding CIFAR-10 Dataset"
   ]
  },
  {
   "cell_type": "code",
   "execution_count": 5,
   "metadata": {
    "executionInfo": {
     "elapsed": 1046,
     "status": "ok",
     "timestamp": 1650635598498,
     "user": {
      "displayName": "Abdulaziz Mohammad",
      "userId": "00984729133826365059"
     },
     "user_tz": -330
    },
    "id": "zgLDohXGuDVH"
   },
   "outputs": [],
   "source": [
    "from keras.datasets import cifar10\n",
    "(x_train, y_train), (x_test, y_test) = cifar10.load_data()"
   ]
  },
  {
   "cell_type": "markdown",
   "metadata": {
    "id": "_R8U7q3evu8t"
   },
   "source": [
    "## Showing some example corresponding the Dataset\n"
   ]
  },
  {
   "cell_type": "code",
   "execution_count": 32,
   "metadata": {
    "colab": {
     "base_uri": "https://localhost:8080/",
     "height": 180
    },
    "executionInfo": {
     "elapsed": 2565,
     "status": "ok",
     "timestamp": 1650635641722,
     "user": {
      "displayName": "Abdulaziz Mohammad",
      "userId": "00984729133826365059"
     },
     "user_tz": -330
    },
    "id": "egv3tZ3WvmpF",
    "outputId": "08283921-9289-4087-ae70-2743badfe9f9"
   },
   "outputs": [
    {
     "name": "stdout",
     "output_type": "stream",
     "text": [
      "Example training images and their labels: [6, 9, 9, 4, 1, 1, 2, 7, 8, 3]\n",
      "Corresponding classes for the labels: ['frog', 'truck', 'truck', 'deer', 'automobile', 'automobile', 'bird', 'horse', 'ship', 'cat']\n"
     ]
    },
    {
     "data": {
      "image/png": "[encoded data removed]",
      "text/plain": [
       "<Figure size 2000x600 with 10 Axes>"
      ]
     },
     "metadata": {},
     "output_type": "display_data"
    }
   ],
   "source": [
    "import matplotlib.pyplot as plt\n",
    "import numpy as np\n",
    "\n",
    "# CIFAR-10 class names\n",
    "cifar10_classes = ['airplane', 'automobile', 'bird', 'cat', 'deer', 'dog', 'frog', 'horse', 'ship', 'truck']\n",
    "\n",
    "# Example of training images and their labels\n",
    "print('Example training images and their labels: ' + str([x[0] for x in y_train[0:10]]))\n",
    "print('Corresponding classes for the labels: ' + str([cifar10_classes[x[0]] for x in y_train[0:10]]))\n",
    "\n",
    "# Plotting the first 10 images\n",
    "fig, axarr = plt.subplots(1, 10)\n",
    "fig.set_size_inches(20, 6)\n",
    "\n",
    "# Loop through the first 10 images in the training set\n",
    "for i in range(10):\n",
    "    image = x_train[i]  # Access the image\n",
    "    image = (image * 255).astype(np.uint8)  # Rescale pixel values to 0-255\n",
    "    axarr[i].imshow(image)  # Show image\n",
    "    axarr[i].axis('off')  # Hide axes for cleaner display\n",
    "    axarr[i].set_title(cifar10_classes[np.argmax(y_train[i])])  # Show the label class\n",
    "\n",
    "plt.show()\n"
   ]
  },
  {
   "cell_type": "code",
   "execution_count": 7,
   "metadata": {
    "colab": {
     "base_uri": "https://localhost:8080/"
    },
    "executionInfo": {
     "elapsed": 337,
     "status": "ok",
     "timestamp": 1650635712948,
     "user": {
      "displayName": "Abdulaziz Mohammad",
      "userId": "00984729133826365059"
     },
     "user_tz": -330
    },
    "id": "6tFczNU9wZGM",
    "outputId": "648e3767-3a51-4919-8a9d-567aabe94456"
   },
   "outputs": [
    {
     "data": {
      "text/plain": [
       "((50000, 32, 32, 3), (50000, 1), (10000, 32, 32, 3), (10000, 1))"
      ]
     },
     "execution_count": 7,
     "metadata": {},
     "output_type": "execute_result"
    }
   ],
   "source": [
    "x_train.shape, y_train.shape, x_test.shape, y_test.shape"
   ]
  },
  {
   "cell_type": "markdown",
   "metadata": {
    "id": "9ami08m2xXCn"
   },
   "source": [
    "## Preparing the dataset\n",
    "Normalize the input data"
   ]
  },
  {
   "cell_type": "code",
   "execution_count": 8,
   "metadata": {
    "executionInfo": {
     "elapsed": 929,
     "status": "ok",
     "timestamp": 1650635868632,
     "user": {
      "displayName": "Abdulaziz Mohammad",
      "userId": "00984729133826365059"
     },
     "user_tz": -330
    },
    "id": "x82EXLcHwmyP"
   },
   "outputs": [],
   "source": [
    "X_train = x_train / 255.0\n",
    "X_test = x_test / 255.0\n",
    "# Every Neuron is expected to have value from 0 to 1 to converge quickly(Gradient Descent)"
   ]
  },
  {
   "cell_type": "markdown",
   "metadata": {
    "id": "Jz-HdQr8yBZg"
   },
   "source": [
    "# ANN Model\n",
    "\n",
    "* I/p Layer - Flatten\n",
    "* Hidden layer - 2048, AF = 'RELU'\n",
    "* O/p Layer - 10 , AF-Softmax"
   ]
  },
  {
   "cell_type": "code",
   "execution_count": 9,
   "metadata": {
    "executionInfo": {
     "elapsed": 330,
     "status": "ok",
     "timestamp": 1650636262645,
     "user": {
      "displayName": "Abdulaziz Mohammad",
      "userId": "00984729133826365059"
     },
     "user_tz": -330
    },
    "id": "uZKiN6kQyAzy"
   },
   "outputs": [],
   "source": [
    "from tensorflow import keras\n",
    "from keras.layers import Dense\n",
    "from keras.layers import Flatten"
   ]
  },
  {
   "cell_type": "code",
   "execution_count": 10,
   "metadata": {},
   "outputs": [],
   "source": [
    "ann = keras.Sequential()\n",
    "ann.add(Flatten(input_shape=(32,32,3)))\n",
    "ann.add(Dense(2048,activation='relu'))\n",
    "ann.add(Dense(10,activation='softmax'))"
   ]
  },
  {
   "cell_type": "code",
   "execution_count": 11,
   "metadata": {},
   "outputs": [
    {
     "name": "stdout",
     "output_type": "stream",
     "text": [
      "Model: \"sequential\"\n",
      "_________________________________________________________________\n",
      " Layer (type)                Output Shape              Param #   \n",
      "=================================================================\n",
      " flatten (Flatten)           (None, 3072)              0         \n",
      "                                                                 \n",
      " dense (Dense)               (None, 2048)              6293504   \n",
      "                                                                 \n",
      " dense_1 (Dense)             (None, 10)                20490     \n",
      "                                                                 \n",
      "=================================================================\n",
      "Total params: 6,313,994\n",
      "Trainable params: 6,313,994\n",
      "Non-trainable params: 0\n",
      "_________________________________________________________________\n"
     ]
    }
   ],
   "source": [
    "ann.summary()"
   ]
  },
  {
   "cell_type": "code",
   "execution_count": 12,
   "metadata": {
    "executionInfo": {
     "elapsed": 598,
     "status": "ok",
     "timestamp": 1650636287241,
     "user": {
      "displayName": "Abdulaziz Mohammad",
      "userId": "00984729133826365059"
     },
     "user_tz": -330
    },
    "id": "SPJg0WzYySF5"
   },
   "outputs": [],
   "source": [
    "ann.compile(loss='sparse_categorical_crossentropy',optimizer='adam',metrics=['accuracy'])"
   ]
  },
  {
   "cell_type": "code",
   "execution_count": 13,
   "metadata": {
    "colab": {
     "base_uri": "https://localhost:8080/"
    },
    "executionInfo": {
     "elapsed": 128291,
     "status": "ok",
     "timestamp": 1650636445904,
     "user": {
      "displayName": "Abdulaziz Mohammad",
      "userId": "00984729133826365059"
     },
     "user_tz": -330
    },
    "id": "VtqrelqmyTb3",
    "outputId": "0902ab88-30dc-4ad4-9a9b-19ec6efeafe8"
   },
   "outputs": [
    {
     "name": "stdout",
     "output_type": "stream",
     "text": [
      "Epoch 1/10\n",
      "1563/1563 [==============================] - 9s 5ms/step - loss: 1.9158 - accuracy: 0.3286 - val_loss: 1.7073 - val_accuracy: 0.3921\n",
      "Epoch 2/10\n",
      "1563/1563 [==============================] - 7s 4ms/step - loss: 1.6855 - accuracy: 0.3983 - val_loss: 1.6336 - val_accuracy: 0.4208\n",
      "Epoch 3/10\n",
      "1563/1563 [==============================] - 7s 4ms/step - loss: 1.6063 - accuracy: 0.4306 - val_loss: 1.5788 - val_accuracy: 0.4419\n",
      "Epoch 4/10\n",
      "1563/1563 [==============================] - 7s 4ms/step - loss: 1.5621 - accuracy: 0.4449 - val_loss: 1.5496 - val_accuracy: 0.4451\n",
      "Epoch 5/10\n",
      "1563/1563 [==============================] - 7s 4ms/step - loss: 1.5290 - accuracy: 0.4558 - val_loss: 1.5445 - val_accuracy: 0.4520\n",
      "Epoch 6/10\n",
      "1563/1563 [==============================] - 7s 4ms/step - loss: 1.5074 - accuracy: 0.4654 - val_loss: 1.5420 - val_accuracy: 0.4546\n",
      "Epoch 7/10\n",
      "1563/1563 [==============================] - 7s 4ms/step - loss: 1.4869 - accuracy: 0.4702 - val_loss: 1.4988 - val_accuracy: 0.4668\n",
      "Epoch 8/10\n",
      "1563/1563 [==============================] - 7s 4ms/step - loss: 1.4601 - accuracy: 0.4816 - val_loss: 1.5183 - val_accuracy: 0.4593\n",
      "Epoch 9/10\n",
      "1563/1563 [==============================] - 7s 5ms/step - loss: 1.4475 - accuracy: 0.4863 - val_loss: 1.5380 - val_accuracy: 0.4531\n",
      "Epoch 10/10\n",
      "1563/1563 [==============================] - 7s 5ms/step - loss: 1.4281 - accuracy: 0.4926 - val_loss: 1.5329 - val_accuracy: 0.4562\n"
     ]
    }
   ],
   "source": [
    "history = ann.fit(X_train ,y_train,epochs=10,validation_data=(X_test,y_test))"
   ]
  },
  {
   "cell_type": "markdown",
   "metadata": {
    "id": "OVqc62RX2f_r"
   },
   "source": [
    "#### With the below simple function we will be able to plot our training history."
   ]
  },
  {
   "cell_type": "code",
   "execution_count": 14,
   "metadata": {
    "colab": {
     "base_uri": "https://localhost:8080/",
     "height": 282
    },
    "executionInfo": {
     "elapsed": 816,
     "status": "ok",
     "timestamp": 1650636817787,
     "user": {
      "displayName": "Abdulaziz Mohammad",
      "userId": "00984729133826365059"
     },
     "user_tz": -330
    },
    "id": "zrCCccRs1Evc",
    "outputId": "9418d173-89c1-4c36-f6f9-92b17f3a87b0"
   },
   "outputs": [
    {
     "data": {
      "text/plain": [
       "[<matplotlib.lines.Line2D at 0x1f38b69eef0>]"
      ]
     },
     "execution_count": 14,
     "metadata": {},
     "output_type": "execute_result"
    },
    {
     "data": {
      "image/png": "[encoded data removed]",
      "text/plain": [
       "<Figure size 640x480 with 1 Axes>"
      ]
     },
     "metadata": {},
     "output_type": "display_data"
    }
   ],
   "source": [
    "plt.plot(history.history['loss'])\n",
    "plt.plot(history.history['val_loss'])"
   ]
  },
  {
   "cell_type": "markdown",
   "metadata": {
    "id": "kH5pf7UX1WD9"
   },
   "source": [
    "## CNN Model"
   ]
  },
  {
   "cell_type": "code",
   "execution_count": 15,
   "metadata": {
    "id": "dWU4yBGO1X8A"
   },
   "outputs": [],
   "source": [
    "from tensorflow import keras\n",
    "from keras.layers import Conv2D, Dense, Flatten, MaxPooling2D, Dropout"
   ]
  },
  {
   "cell_type": "code",
   "execution_count": 16,
   "metadata": {
    "executionInfo": {
     "elapsed": 570,
     "status": "ok",
     "timestamp": 1650637756344,
     "user": {
      "displayName": "Abdulaziz Mohammad",
      "userId": "00984729133826365059"
     },
     "user_tz": -330
    },
    "id": "E8vLr0nn1rM7"
   },
   "outputs": [],
   "source": [
    "cnn = keras.Sequential()\n",
    "cnn.add(Conv2D(32, kernel_size= (3,3), strides=(1,1), padding='same', activation='relu', input_shape = (32,32,3)))\n",
    "cnn.add(MaxPooling2D((2,2)))\n",
    "cnn.add(Conv2D(64, kernel_size= (3,3), strides=(1,1), padding='same', activation='relu'))\n",
    "cnn.add(MaxPooling2D((2,2)))\n",
    "cnn.add(Conv2D(128, kernel_size= (3,3), strides=(1,1), padding='same', activation='relu'))\n",
    "cnn.add(MaxPooling2D((2,2)))\n",
    "cnn.add(Conv2D(256, kernel_size= (3,3), strides=(1,1), padding='same', activation='relu'))\n",
    "cnn.add(MaxPooling2D((2,2)))\n",
    "cnn.add(Flatten())\n",
    "cnn.add(Dense(64,activation='relu'))\n",
    "cnn.add(Dropout(0.3))\n",
    "cnn.add(Dense(10,activation='softmax'))"
   ]
  },
  {
   "cell_type": "code",
   "execution_count": 17,
   "metadata": {
    "colab": {
     "base_uri": "https://localhost:8080/"
    },
    "executionInfo": {
     "elapsed": 595,
     "status": "ok",
     "timestamp": 1650637762047,
     "user": {
      "displayName": "Abdulaziz Mohammad",
      "userId": "00984729133826365059"
     },
     "user_tz": -330
    },
    "id": "hJ6FMNZN1-se",
    "outputId": "231de159-9469-42c5-82e7-172f74b4d91d"
   },
   "outputs": [
    {
     "name": "stdout",
     "output_type": "stream",
     "text": [
      "Model: \"sequential_1\"\n",
      "_________________________________________________________________\n",
      " Layer (type)                Output Shape              Param #   \n",
      "=================================================================\n",
      " conv2d (Conv2D)             (None, 32, 32, 32)        896       \n",
      "                                                                 \n",
      " max_pooling2d (MaxPooling2D  (None, 16, 16, 32)       0         \n",
      " )                                                               \n",
      "                                                                 \n",
      " conv2d_1 (Conv2D)           (None, 16, 16, 64)        18496     \n",
      "                                                                 \n",
      " max_pooling2d_1 (MaxPooling  (None, 8, 8, 64)         0         \n",
      " 2D)                                                             \n",
      "                                                                 \n",
      " conv2d_2 (Conv2D)           (None, 8, 8, 128)         73856     \n",
      "                                                                 \n",
      " max_pooling2d_2 (MaxPooling  (None, 4, 4, 128)        0         \n",
      " 2D)                                                             \n",
      "                                                                 \n",
      " conv2d_3 (Conv2D)           (None, 4, 4, 256)         295168    \n",
      "                                                                 \n",
      " max_pooling2d_3 (MaxPooling  (None, 2, 2, 256)        0         \n",
      " 2D)                                                             \n",
      "                                                                 \n",
      " flatten_1 (Flatten)         (None, 1024)              0         \n",
      "                                                                 \n",
      " dense_2 (Dense)             (None, 64)                65600     \n",
      "                                                                 \n",
      " dropout (Dropout)           (None, 64)                0         \n",
      "                                                                 \n",
      " dense_3 (Dense)             (None, 10)                650       \n",
      "                                                                 \n",
      "=================================================================\n",
      "Total params: 454,666\n",
      "Trainable params: 454,666\n",
      "Non-trainable params: 0\n",
      "_________________________________________________________________\n"
     ]
    }
   ],
   "source": [
    "cnn.summary()"
   ]
  },
  {
   "cell_type": "code",
   "execution_count": 18,
   "metadata": {
    "colab": {
     "base_uri": "https://localhost:8080/"
    },
    "executionInfo": {
     "elapsed": 203620,
     "status": "ok",
     "timestamp": 1650637411708,
     "user": {
      "displayName": "Abdulaziz Mohammad",
      "userId": "00984729133826365059"
     },
     "user_tz": -330
    },
    "id": "9J8IZOVD2E7-",
    "outputId": "f197ccd2-9f40-4ac9-c2dc-7b5eb850405c"
   },
   "outputs": [
    {
     "name": "stdout",
     "output_type": "stream",
     "text": [
      "Epoch 1/10\n",
      "1563/1563 [==============================] - 14s 6ms/step - loss: 1.5754 - accuracy: 0.4231 - val_loss: 1.1863 - val_accuracy: 0.5799\n",
      "Epoch 2/10\n",
      "1563/1563 [==============================] - 8s 5ms/step - loss: 1.1385 - accuracy: 0.5991 - val_loss: 1.0317 - val_accuracy: 0.6399\n",
      "Epoch 3/10\n",
      "1563/1563 [==============================] - 8s 5ms/step - loss: 0.9246 - accuracy: 0.6808 - val_loss: 0.8646 - val_accuracy: 0.6977\n",
      "Epoch 4/10\n",
      "1563/1563 [==============================] - 8s 5ms/step - loss: 0.7922 - accuracy: 0.7275 - val_loss: 0.8076 - val_accuracy: 0.7224\n",
      "Epoch 5/10\n",
      "1563/1563 [==============================] - 8s 5ms/step - loss: 0.6892 - accuracy: 0.7635 - val_loss: 0.7764 - val_accuracy: 0.7359\n",
      "Epoch 6/10\n",
      "1563/1563 [==============================] - 8s 5ms/step - loss: 0.6069 - accuracy: 0.7915 - val_loss: 0.7751 - val_accuracy: 0.7432\n",
      "Epoch 7/10\n",
      "1563/1563 [==============================] - 9s 6ms/step - loss: 0.5308 - accuracy: 0.8159 - val_loss: 0.7794 - val_accuracy: 0.7498\n",
      "Epoch 8/10\n",
      "1563/1563 [==============================] - 9s 6ms/step - loss: 0.4738 - accuracy: 0.8354 - val_loss: 0.8314 - val_accuracy: 0.7414\n",
      "Epoch 9/10\n",
      "1563/1563 [==============================] - 9s 6ms/step - loss: 0.4198 - accuracy: 0.8521 - val_loss: 0.8848 - val_accuracy: 0.7276\n",
      "Epoch 10/10\n",
      "1563/1563 [==============================] - 9s 5ms/step - loss: 0.3664 - accuracy: 0.8718 - val_loss: 0.9499 - val_accuracy: 0.7368\n"
     ]
    }
   ],
   "source": [
    "cnn.compile(loss='sparse_categorical_crossentropy',optimizer='adam',metrics=['accuracy'])\n",
    "history = cnn.fit(X_train,y_train,epochs=10,validation_data=(X_test,y_test))"
   ]
  },
  {
   "cell_type": "code",
   "execution_count": 19,
   "metadata": {
    "executionInfo": {
     "elapsed": 594,
     "status": "ok",
     "timestamp": 1650637563780,
     "user": {
      "displayName": "Abdulaziz Mohammad",
      "userId": "00984729133826365059"
     },
     "user_tz": -330
    },
    "id": "_ndaiS363B5K"
   },
   "outputs": [],
   "source": [
    "def plotLosses(history):  \n",
    "    plt.plot(history.history['loss'])\n",
    "    plt.plot(history.history['val_loss'])\n",
    "    plt.title('model loss')\n",
    "    plt.ylabel('loss')\n",
    "    plt.xlabel('epoch')\n",
    "    plt.legend(['train', 'validation'], loc='upper right')\n",
    "    plt.show()"
   ]
  },
  {
   "cell_type": "code",
   "execution_count": 20,
   "metadata": {
    "colab": {
     "base_uri": "https://localhost:8080/",
     "height": 295
    },
    "executionInfo": {
     "elapsed": 581,
     "status": "ok",
     "timestamp": 1650637570356,
     "user": {
      "displayName": "Abdulaziz Mohammad",
      "userId": "00984729133826365059"
     },
     "user_tz": -330
    },
    "id": "1DRllhYS3IwI",
    "outputId": "91315349-093e-41e5-d94b-42dcbb284c48"
   },
   "outputs": [
    {
     "data": {
      "image/png": "[encoded data removed]",
      "text/plain": [
       "<Figure size 640x480 with 1 Axes>"
      ]
     },
     "metadata": {},
     "output_type": "display_data"
    }
   ],
   "source": [
    "plotLosses(history)"
   ]
  },
  {
   "cell_type": "code",
   "execution_count": 21,
   "metadata": {
    "executionInfo": {
     "elapsed": 548,
     "status": "ok",
     "timestamp": 1650637611637,
     "user": {
      "displayName": "Abdulaziz Mohammad",
      "userId": "00984729133826365059"
     },
     "user_tz": -330
    },
    "id": "IWCQgFgr3fdI"
   },
   "outputs": [],
   "source": [
    "def plotAccuracy(history):  \n",
    "    plt.plot(history.history['accuracy'])\n",
    "    plt.plot(history.history['val_accuracy'])\n",
    "    plt.title('model Accuracy')\n",
    "    plt.ylabel('Accuracy')\n",
    "    plt.xlabel('epoch')\n",
    "    plt.legend(['train', 'validation'], loc='upper left')\n",
    "    plt.show()"
   ]
  },
  {
   "cell_type": "code",
   "execution_count": 22,
   "metadata": {
    "colab": {
     "base_uri": "https://localhost:8080/",
     "height": 295
    },
    "executionInfo": {
     "elapsed": 679,
     "status": "ok",
     "timestamp": 1650637617604,
     "user": {
      "displayName": "Abdulaziz Mohammad",
      "userId": "00984729133826365059"
     },
     "user_tz": -330
    },
    "id": "M9tRUozK3zwi",
    "outputId": "cc84dc49-b686-4262-f3b6-5910f267ded4"
   },
   "outputs": [
    {
     "data": {
      "image/png": "[encoded data removed]",
      "text/plain": [
       "<Figure size 640x480 with 1 Axes>"
      ]
     },
     "metadata": {},
     "output_type": "display_data"
    }
   ],
   "source": [
    "plotAccuracy(history)"
   ]
  },
  {
   "cell_type": "code",
   "execution_count": 23,
   "metadata": {},
   "outputs": [],
   "source": [
    "from keras.models import load_model\n",
    "cnn.save('model111.h5')"
   ]
  },
  {
   "cell_type": "code",
   "execution_count": 24,
   "metadata": {},
   "outputs": [],
   "source": [
    "# Load the model\n",
    "model = tf.keras.models.load_model('model111.h5')"
   ]
  },
  {
   "cell_type": "code",
   "execution_count": 25,
   "metadata": {},
   "outputs": [
    {
     "name": "stdout",
     "output_type": "stream",
     "text": [
      "1/1 [==============================] - 0s 214ms/step\n"
     ]
    },
    {
     "data": {
      "text/plain": [
       "array([[0., 0., 0., 0., 0., 0., 0., 0., 0., 1.]], dtype=float32)"
      ]
     },
     "execution_count": 25,
     "metadata": {},
     "output_type": "execute_result"
    }
   ],
   "source": [
    "import numpy as np\n",
    "# Add a batch dimension to the input\n",
    "x_test_sample = np.expand_dims(x_test[20], axis=0)\n",
    "\n",
    "# Now pass it to the model for prediction\n",
    "model.predict(x_test_sample)"
   ]
  },
  {
   "cell_type": "code",
   "execution_count": 35,
   "metadata": {},
   "outputs": [
    {
     "data": {
      "text/plain": [
       "<matplotlib.image.AxesImage at 0x1f218582d70>"
      ]
     },
     "execution_count": 35,
     "metadata": {},
     "output_type": "execute_result"
    },
    {
     "data": {
      "image/png": "[encoded data removed]",
      "text/plain": [
       "<Figure size 640x480 with 1 Axes>"
      ]
     },
     "metadata": {},
     "output_type": "display_data"
    }
   ],
   "source": [
    "plt.imshow(x_test[20])"
   ]
  },
  {
   "cell_type": "code",
   "execution_count": 27,
   "metadata": {},
   "outputs": [
    {
     "name": "stdout",
     "output_type": "stream",
     "text": [
      "1/1 [==============================] - 0s 17ms/step\n",
      "The predicted class is: truck\n"
     ]
    }
   ],
   "source": [
    "# Example: if you have class names like this\n",
    "class_names = ['airplane', 'automobile', 'bird', 'cat', 'deer', 'dog', 'frog', 'horse', 'ship', 'truck']  # replace with your actual class names\n",
    "\n",
    "# Get the prediction probabilities\n",
    "predictions = model.predict(x_test_sample)\n",
    "\n",
    "# Get the index of the class with the highest probability\n",
    "predicted_class_index = np.argmax(predictions)\n",
    "\n",
    "# Get the corresponding class name\n",
    "predicted_class_name = class_names[predicted_class_index]\n",
    "\n",
    "print(f\"The predicted class is: {predicted_class_name}\")"
   ]
  }
 ],
 "metadata": {
  "accelerator": "GPU",
  "colab": {
   "authorship_tag": "ABX9TyMNUt8YE5GhQb6DEU3GYJbG",
   "name": "ANN&CNN_CIFAR-10.ipynb",
   "version": ""
  },
  "kernelspec": {
   "display_name": "aicte_ImgClass",
   "language": "python",
   "name": "python3"
  },
  "language_info": {
   "codemirror_mode": {
    "name": "ipython",
    "version": 3
   },
   "file_extension": ".py",
   "mimetype": "text/x-python",
   "name": "python",
   "nbconvert_exporter": "python",
   "pygments_lexer": "ipython3",
   "version": "3.10.15"
  }
 },
 "nbformat": 4,
 "nbformat_minor": 4
}
